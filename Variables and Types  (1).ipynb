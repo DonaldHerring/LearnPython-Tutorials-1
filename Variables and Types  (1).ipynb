{
 "cells": [
  {
   "cell_type": "code",
   "execution_count": 1,
   "id": "1fc63021",
   "metadata": {},
   "outputs": [
    {
     "name": "stdout",
     "output_type": "stream",
     "text": [
      "String: hello\n",
      "Float: 10.000000\n",
      "Integer: 20\n"
     ]
    }
   ],
   "source": [
    "mystring = \"hello\"\n",
    "myfloat = 10.0\n",
    "myint = 20\n",
    "\n",
    "if mystring == \"hello\":\n",
    "    print(\"String: %s\" % mystring)\n",
    "if isinstance(myfloat, float) and myfloat == 10.0:\n",
    "    print(\"Float: %f\" % myfloat)\n",
    "if isinstance(myint, int) and myint == 20:\n",
    "    print(\"Integer: %d\" % myint)"
   ]
  },
  {
   "cell_type": "markdown",
   "id": "3f0d95f0",
   "metadata": {},
   "source": [
    "This is a Variables and Types code. It was part of Learn Python Tutorials 1. The purpose is to create a string, an integer, and a floating point number. The string was supposed to be named mystring and contain the word \"hello\". The floating point number was supposed to be named myfloat and contain the number 10.0. The integer was supposed to be named myint and contain the number 20."
   ]
  }
 ],
 "metadata": {
  "kernelspec": {
   "display_name": "Python 3 (ipykernel)",
   "language": "python",
   "name": "python3"
  },
  "language_info": {
   "codemirror_mode": {
    "name": "ipython",
    "version": 3
   },
   "file_extension": ".py",
   "mimetype": "text/x-python",
   "name": "python",
   "nbconvert_exporter": "python",
   "pygments_lexer": "ipython3",
   "version": "3.9.7"
  }
 },
 "nbformat": 4,
 "nbformat_minor": 5
}
